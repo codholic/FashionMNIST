{
  "nbformat": 4,
  "nbformat_minor": 0,
  "metadata": {
    "colab": {
      "name": "fashionMNIST.ipynb",
      "provenance": [],
      "collapsed_sections": [],
      "authorship_tag": "ABX9TyOWi2Wq+KgTW9laqTKB5AL6"
    },
    "kernelspec": {
      "name": "python3",
      "display_name": "Python 3"
    }
  },
  "cells": [
    {
      "cell_type": "code",
      "metadata": {
        "id": "QiqlKKu-GPGr",
        "colab_type": "code",
        "colab": {
          "base_uri": "https://localhost:8080/",
          "height": 51
        },
        "outputId": "5f66aaaf-1abd-4935-d323-bcd9b048ca25"
      },
      "source": [
        "pip install helper"
      ],
      "execution_count": 1,
      "outputs": [
        {
          "output_type": "stream",
          "text": [
            "Requirement already satisfied: helper in /usr/local/lib/python3.6/dist-packages (2.4.2)\n",
            "Requirement already satisfied: pyyaml in /usr/local/lib/python3.6/dist-packages (from helper) (3.13)\n"
          ],
          "name": "stdout"
        }
      ]
    },
    {
      "cell_type": "markdown",
      "metadata": {
        "id": "zL5iykQguh9m",
        "colab_type": "text"
      },
      "source": [
        "##Importing necessary library"
      ]
    },
    {
      "cell_type": "code",
      "metadata": {
        "id": "YXXdcjY6QmuY",
        "colab_type": "code",
        "colab": {}
      },
      "source": [
        "import torch \n",
        "import helper\n",
        "from torchvision import datasets,transforms\n",
        "import matplotlib.pyplot as plt\n",
        "%matplotlib inline \n",
        "\n",
        "import torch.nn as nn\n",
        "import torch.nn.functional as F\n",
        "from torch import optim\n"
      ],
      "execution_count": 0,
      "outputs": []
    },
    {
      "cell_type": "markdown",
      "metadata": {
        "id": "JGIUf064u09k",
        "colab_type": "text"
      },
      "source": [
        "##Loading Fashion MNIST Dataset"
      ]
    },
    {
      "cell_type": "code",
      "metadata": {
        "id": "RYplRRhdumfN",
        "colab_type": "code",
        "colab": {}
      },
      "source": [
        "# Define a transform to normalize the data\n",
        "transform=transforms.Compose([transforms.ToTensor(),\n",
        "                             transforms.Normalize((0.5,),(0.5,))])\n",
        "\n",
        "#Download and prepare train data\n",
        "trainset=datasets.FashionMNIST('~/.pytorch/F_MNIST_data/',train=True,transform=transform,download=True)\n",
        "trainloader=torch.utils.data.DataLoader(trainset,batch_size=64,shuffle=True)\n",
        "\n",
        "#Download and prepare test data\n",
        "testset=datasets.FashionMNIST('~/.pytorch/F_MNIST_data/',train=False,transform=transform,download=True)\n",
        "testloader=torch.utils.data.DataLoader(testset,batch_size=64,shuffle=True)"
      ],
      "execution_count": 0,
      "outputs": []
    },
    {
      "cell_type": "markdown",
      "metadata": {
        "id": "-HXZEiXkv7WH",
        "colab_type": "text"
      },
      "source": [
        "#Visualizing data"
      ]
    },
    {
      "cell_type": "code",
      "metadata": {
        "id": "-1db7OIEwy_Q",
        "colab_type": "code",
        "colab": {
          "base_uri": "https://localhost:8080/",
          "height": 265
        },
        "outputId": "0a6071fe-009f-49c7-fe03-e9a740292e17"
      },
      "source": [
        "image, label = next(iter(trainloader))\n",
        "helper.imshow(image[0,:])\n",
        "image.shape\n",
        " "
      ],
      "execution_count": 47,
      "outputs": [
        {
          "output_type": "execute_result",
          "data": {
            "text/plain": [
              "torch.Size([64, 1, 28, 28])"
            ]
          },
          "metadata": {
            "tags": []
          },
          "execution_count": 47
        },
        {
          "output_type": "display_data",
          "data": {
            "image/png": "[encoded data removed]",
            "text/plain": [
              "<Figure size 432x288 with 1 Axes>"
            ]
          },
          "metadata": {
            "tags": [],
            "needs_background": "light"
          }
        }
      ]
    },
    {
      "cell_type": "markdown",
      "metadata": {
        "id": "4TrSSim4bsxz",
        "colab_type": "text"
      },
      "source": [
        "##Building Neural Network"
      ]
    },
    {
      "cell_type": "code",
      "metadata": {
        "id": "N8Dw4F_1DIGi",
        "colab_type": "code",
        "colab": {
          "base_uri": "https://localhost:8080/",
          "height": 102
        },
        "outputId": "82fe52e1-6b20-4158-81be-a4d0a7f650f7"
      },
      "source": [
        "model=nn.Sequential(nn.Linear(784,256),\n",
        "                    nn.ReLU(),\n",
        "                    nn.Linear(256,128),\n",
        "                    nn.ReLU(),\n",
        "                    nn.Linear(128,64),\n",
        "                    nn.ReLU(),\n",
        "                    nn.Linear(64,10),\n",
        "                    nn.LogSoftmax(dim=1))\n",
        "\n",
        "criterion=nn.NLLLoss()\n",
        "optimizer=optim.SGD(model.parameters(),lr=0.001)\n",
        "\n",
        "epoch=5\n",
        "for e in range(epoch):\n",
        "  running_loss=0\n",
        "  for image,label in trainloader:\n",
        "    image=image.view(image.shape[0],-1)\n",
        "\n",
        "    optimizer.zero_grad()\n",
        "    #forward pass || backward pass || \n",
        "    output=model.forward(image)\n",
        "    loss=criterion(output,label)\n",
        "    loss.backward()\n",
        "    optimizer.step()\n",
        "\n",
        "    running_loss+=loss.item()\n",
        "  else:\n",
        "    print(f'training_loss:{running_loss/len(trainloader)}')\n",
        "\n",
        "\n",
        "\n",
        " \n",
        " \n"
      ],
      "execution_count": 48,
      "outputs": [
        {
          "output_type": "stream",
          "text": [
            "training_loss:2.2677146966523454\n",
            "training_loss:2.140056609980333\n",
            "training_loss:1.8081163286146071\n",
            "training_loss:1.4296058626063088\n",
            "training_loss:1.1490303463519\n"
          ],
          "name": "stdout"
        }
      ]
    },
    {
      "cell_type": "markdown",
      "metadata": {
        "id": "sKOYi3Piroun",
        "colab_type": "text"
      },
      "source": [
        "##Testing by test data"
      ]
    },
    {
      "cell_type": "code",
      "metadata": {
        "id": "KNhRDymNhead",
        "colab_type": "code",
        "colab": {
          "base_uri": "https://localhost:8080/",
          "height": 234
        },
        "outputId": "5725585a-8cba-44b6-895f-eb58deef0073"
      },
      "source": [
        "img,lbl=next(iter(testloader))\n",
        "img=img[0].view(1,-1)\n",
        "\n",
        "\n",
        "with torch.no_grad():\n",
        "  logit=model.forward(img)\n",
        "\n",
        "ps=torch.exp(logit)\n",
        "helper.view_classify(img.view(1,28,28),ps,version='Fashion')\n",
        "\n"
      ],
      "execution_count": 49,
      "outputs": [
        {
          "output_type": "display_data",
          "data": {
            "image/png": "[encoded data removed]",
            "text/plain": [
              "<Figure size 432x648 with 2 Axes>"
            ]
          },
          "metadata": {
            "tags": [],
            "needs_background": "light"
          }
        }
      ]
    },
    {
      "cell_type": "code",
      "metadata": {
        "id": "Lh5_bAzIuDTH",
        "colab_type": "code",
        "colab": {}
      },
      "source": [
        ""
      ],
      "execution_count": 0,
      "outputs": []
    }
  ]
}