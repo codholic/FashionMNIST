{
  "nbformat": 4,
  "nbformat_minor": 0,
  "metadata": {
    "colab": {
      "name": "fashionMNIST.ipynb",
      "provenance": [],
      "collapsed_sections": [],
      "toc_visible": true,
      "authorship_tag": "ABX9TyNqfsMmbesO+7uhtX8FrcMQ"
    },
    "kernelspec": {
      "name": "python3",
      "display_name": "Python 3"
    }
  },
  "cells": [
    {
      "cell_type": "code",
      "metadata": {
        "id": "QiqlKKu-GPGr",
        "colab_type": "code",
        "outputId": "9018fbfe-8d28-4ca6-ed28-12fe179ce38c",
        "colab": {
          "base_uri": "https://localhost:8080/",
          "height": 224
        }
      },
      "source": [
        "!wget -c https://raw.githubusercontent.com/udacity/deep-learning-v2-pytorch/master/intro-to-pytorch/helper.py"
      ],
      "execution_count": 41,
      "outputs": [
        {
          "output_type": "stream",
          "text": [
            "--2020-04-26 09:15:49--  https://raw.githubusercontent.com/udacity/deep-learning-v2-pytorch/master/intro-to-pytorch/helper.py\n",
            "Resolving raw.githubusercontent.com (raw.githubusercontent.com)... 151.101.0.133, 151.101.64.133, 151.101.128.133, ...\n",
            "Connecting to raw.githubusercontent.com (raw.githubusercontent.com)|151.101.0.133|:443... connected.\n",
            "HTTP request sent, awaiting response... 200 OK\n",
            "Length: 2813 (2.7K) [text/plain]\n",
            "Saving to: ‘helper.py’\n",
            "\n",
            "\rhelper.py             0%[                    ]       0  --.-KB/s               \rhelper.py           100%[===================>]   2.75K  --.-KB/s    in 0s      \n",
            "\n",
            "2020-04-26 09:15:49 (30.3 MB/s) - ‘helper.py’ saved [2813/2813]\n",
            "\n"
          ],
          "name": "stdout"
        }
      ]
    },
    {
      "cell_type": "markdown",
      "metadata": {
        "id": "zL5iykQguh9m",
        "colab_type": "text"
      },
      "source": [
        "##Importing necessary library"
      ]
    },
    {
      "cell_type": "code",
      "metadata": {
        "id": "YXXdcjY6QmuY",
        "colab_type": "code",
        "colab": {}
      },
      "source": [
        "import torch \n",
        "import helper\n",
        "from torchvision import datasets,transforms\n",
        "import matplotlib.pyplot as plt\n",
        "%matplotlib inline \n",
        "\n",
        "import torch.nn as nn\n",
        "import torch.nn.functional as F\n",
        "from torch import optim\n"
      ],
      "execution_count": 0,
      "outputs": []
    },
    {
      "cell_type": "markdown",
      "metadata": {
        "id": "JGIUf064u09k",
        "colab_type": "text"
      },
      "source": [
        "##Loading Fashion MNIST Dataset"
      ]
    },
    {
      "cell_type": "code",
      "metadata": {
        "id": "RYplRRhdumfN",
        "colab_type": "code",
        "colab": {}
      },
      "source": [
        "# Define a transform to normalize the data\n",
        "transform=transforms.Compose([transforms.ToTensor(),\n",
        "                             transforms.Normalize((0.5,),(0.5,))])\n",
        "\n",
        "#Download and prepare train data\n",
        "trainset=datasets.FashionMNIST('~/.pytorch/F_MNIST_data/',train=True,transform=transform,download=True)\n",
        "trainloader=torch.utils.data.DataLoader(trainset,batch_size=64,shuffle=True)\n",
        "\n",
        "#Download and prepare test data\n",
        "testset=datasets.FashionMNIST('~/.pytorch/F_MNIST_data/',train=False,transform=transform,download=True)\n",
        "testloader=torch.utils.data.DataLoader(testset,batch_size=64,shuffle=True)"
      ],
      "execution_count": 0,
      "outputs": []
    },
    {
      "cell_type": "markdown",
      "metadata": {
        "id": "-HXZEiXkv7WH",
        "colab_type": "text"
      },
      "source": [
        "#Visualizing data"
      ]
    },
    {
      "cell_type": "code",
      "metadata": {
        "id": "-1db7OIEwy_Q",
        "colab_type": "code",
        "outputId": "73b38fe9-2876-4b32-eb6e-1f5b8794c5b4",
        "colab": {
          "base_uri": "https://localhost:8080/",
          "height": 265
        }
      },
      "source": [
        "image, label = next(iter(trainloader))\n",
        "helper.imshow(image[0,:])\n",
        "image.shape\n",
        " "
      ],
      "execution_count": 3,
      "outputs": [
        {
          "output_type": "execute_result",
          "data": {
            "text/plain": [
              "torch.Size([64, 1, 28, 28])"
            ]
          },
          "metadata": {
            "tags": []
          },
          "execution_count": 3
        },
        {
          "output_type": "display_data",
          "data": {
            "image/png": "[encoded data removed]",
            "text/plain": [
              "<Figure size 432x288 with 1 Axes>"
            ]
          },
          "metadata": {
            "tags": [],
            "needs_background": "light"
          }
        }
      ]
    },
    {
      "cell_type": "markdown",
      "metadata": {
        "id": "4TrSSim4bsxz",
        "colab_type": "text"
      },
      "source": [
        "##Building Neural Network"
      ]
    },
    {
      "cell_type": "code",
      "metadata": {
        "id": "N8Dw4F_1DIGi",
        "colab_type": "code",
        "outputId": "30d0bbc2-a655-4496-db05-7934d65eb117",
        "colab": {
          "base_uri": "https://localhost:8080/",
          "height": 102
        }
      },
      "source": [
        "model=nn.Sequential(nn.Linear(784,256),\n",
        "                    nn.ReLU(),\n",
        "                    nn.Linear(256,128),\n",
        "                    nn.ReLU(),\n",
        "                    nn.Linear(128,64),\n",
        "                    nn.ReLU(),\n",
        "                    nn.Linear(64,10),\n",
        "                    nn.LogSoftmax(dim=1))\n",
        "\n",
        "criterion=nn.NLLLoss()\n",
        "optimizer=optim.SGD(model.parameters(),lr=0.001)\n",
        "\n",
        "epoch=5\n",
        "for e in range(epoch):\n",
        "  running_loss=0\n",
        "  for image,label in trainloader:\n",
        "    image=image.view(image.shape[0],-1)\n",
        "\n",
        "    optimizer.zero_grad()\n",
        "    #forward pass || backward pass || \n",
        "    output=model.forward(image)\n",
        "    loss=criterion(output,label)\n",
        "    loss.backward()\n",
        "    optimizer.step()\n",
        "\n",
        "    running_loss+=loss.item()\n",
        "  else:\n",
        "    print(f'training_loss:{running_loss/len(trainloader)}')\n",
        "\n",
        "\n",
        "\n",
        " \n",
        " \n"
      ],
      "execution_count": 4,
      "outputs": [
        {
          "output_type": "stream",
          "text": [
            "training_loss:2.2689971552728845\n",
            "training_loss:2.1601283001238856\n",
            "training_loss:1.8991085227364417\n",
            "training_loss:1.4999257078302948\n",
            "training_loss:1.183472448129898\n"
          ],
          "name": "stdout"
        }
      ]
    },
    {
      "cell_type": "markdown",
      "metadata": {
        "id": "sKOYi3Piroun",
        "colab_type": "text"
      },
      "source": [
        "##Testing by test data"
      ]
    },
    {
      "cell_type": "code",
      "metadata": {
        "id": "KNhRDymNhead",
        "colab_type": "code",
        "colab": {
          "base_uri": "https://localhost:8080/",
          "height": 234
        },
        "outputId": "929c9aed-12b4-4af1-c078-b1797c6c5ecb"
      },
      "source": [
        "img,lbl=next(iter(testloader))\n",
        "img=img[0].view(1,-1)\n",
        "\n",
        "\n",
        "with torch.no_grad():\n",
        "  logit=model.forward(img)\n",
        "\n",
        "ps=torch.exp(logit)\n",
        "helper.view_classify(img.view(1,28,28),ps,version='Fashion')\n",
        "\n"
      ],
      "execution_count": 6,
      "outputs": [
        {
          "output_type": "display_data",
          "data": {
            "image/png": "[encoded data removed]",
            "text/plain": [
              "<Figure size 432x648 with 2 Axes>"
            ]
          },
          "metadata": {
            "tags": [],
            "needs_background": "light"
          }
        }
      ]
    },
    {
      "cell_type": "code",
      "metadata": {
        "id": "Lh5_bAzIuDTH",
        "colab_type": "code",
        "colab": {}
      },
      "source": [
        ""
      ],
      "execution_count": 0,
      "outputs": []
    }
  ]
}